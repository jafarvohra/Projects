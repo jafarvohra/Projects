{
  "nbformat": 4,
  "nbformat_minor": 0,
  "metadata": {
    "colab": {
      "provenance": [],
      "gpuType": "T4"
    },
    "kernelspec": {
      "name": "python3",
      "display_name": "Python 3"
    },
    "language_info": {
      "name": "python"
    },
    "accelerator": "GPU",
    "widgets": {
      "application/vnd.jupyter.widget-state+json": {
        "ad3a5456c2014e6480a79cd7867af717": {
          "model_module": "@jupyter-widgets/controls",
          "model_name": "HBoxModel",
          "model_module_version": "1.5.0",
          "state": {
            "_dom_classes": [],
            "_model_module": "@jupyter-widgets/controls",
            "_model_module_version": "1.5.0",
            "_model_name": "HBoxModel",
            "_view_count": null,
            "_view_module": "@jupyter-widgets/controls",
            "_view_module_version": "1.5.0",
            "_view_name": "HBoxView",
            "box_style": "",
            "children": [
              "IPY_MODEL_3c101af598e043f2a6422b37556e7344",
              "IPY_MODEL_050caf8a4d31404da8e65d259653e270",
              "IPY_MODEL_4f4f4615b2dc434080db5d45c2887dbf"
            ],
            "layout": "IPY_MODEL_0a82b67387f74f3bbddf07767d3b9572"
          }
        },
        "3c101af598e043f2a6422b37556e7344": {
          "model_module": "@jupyter-widgets/controls",
          "model_name": "HTMLModel",
          "model_module_version": "1.5.0",
          "state": {
            "_dom_classes": [],
            "_model_module": "@jupyter-widgets/controls",
            "_model_module_version": "1.5.0",
            "_model_name": "HTMLModel",
            "_view_count": null,
            "_view_module": "@jupyter-widgets/controls",
            "_view_module_version": "1.5.0",
            "_view_name": "HTMLView",
            "description": "",
            "description_tooltip": null,
            "layout": "IPY_MODEL_df2fe1ad3ce9479b9c76f9ef984faf50",
            "placeholder": "​",
            "style": "IPY_MODEL_ee852781589d434a8754bda4114d35b4",
            "value": "Map: 100%"
          }
        },
        "050caf8a4d31404da8e65d259653e270": {
          "model_module": "@jupyter-widgets/controls",
          "model_name": "FloatProgressModel",
          "model_module_version": "1.5.0",
          "state": {
            "_dom_classes": [],
            "_model_module": "@jupyter-widgets/controls",
            "_model_module_version": "1.5.0",
            "_model_name": "FloatProgressModel",
            "_view_count": null,
            "_view_module": "@jupyter-widgets/controls",
            "_view_module_version": "1.5.0",
            "_view_name": "ProgressView",
            "bar_style": "success",
            "description": "",
            "description_tooltip": null,
            "layout": "IPY_MODEL_a450fcf5eda0428d9d73ecabf5e31f92",
            "max": 15891,
            "min": 0,
            "orientation": "horizontal",
            "style": "IPY_MODEL_9da3a7692be448ca9c18de496b47b890",
            "value": 15891
          }
        },
        "4f4f4615b2dc434080db5d45c2887dbf": {
          "model_module": "@jupyter-widgets/controls",
          "model_name": "HTMLModel",
          "model_module_version": "1.5.0",
          "state": {
            "_dom_classes": [],
            "_model_module": "@jupyter-widgets/controls",
            "_model_module_version": "1.5.0",
            "_model_name": "HTMLModel",
            "_view_count": null,
            "_view_module": "@jupyter-widgets/controls",
            "_view_module_version": "1.5.0",
            "_view_name": "HTMLView",
            "description": "",
            "description_tooltip": null,
            "layout": "IPY_MODEL_c695e6564d214005b8c359d0850fd750",
            "placeholder": "​",
            "style": "IPY_MODEL_9e72e64712244ab8b52a1ec7700141bc",
            "value": " 15891/15891 [00:53&lt;00:00, 404.83 examples/s]"
          }
        },
        "0a82b67387f74f3bbddf07767d3b9572": {
          "model_module": "@jupyter-widgets/base",
          "model_name": "LayoutModel",
          "model_module_version": "1.2.0",
          "state": {
            "_model_module": "@jupyter-widgets/base",
            "_model_module_version": "1.2.0",
            "_model_name": "LayoutModel",
            "_view_count": null,
            "_view_module": "@jupyter-widgets/base",
            "_view_module_version": "1.2.0",
            "_view_name": "LayoutView",
            "align_content": null,
            "align_items": null,
            "align_self": null,
            "border": null,
            "bottom": null,
            "display": null,
            "flex": null,
            "flex_flow": null,
            "grid_area": null,
            "grid_auto_columns": null,
            "grid_auto_flow": null,
            "grid_auto_rows": null,
            "grid_column": null,
            "grid_gap": null,
            "grid_row": null,
            "grid_template_areas": null,
            "grid_template_columns": null,
            "grid_template_rows": null,
            "height": null,
            "justify_content": null,
            "justify_items": null,
            "left": null,
            "margin": null,
            "max_height": null,
            "max_width": null,
            "min_height": null,
            "min_width": null,
            "object_fit": null,
            "object_position": null,
            "order": null,
            "overflow": null,
            "overflow_x": null,
            "overflow_y": null,
            "padding": null,
            "right": null,
            "top": null,
            "visibility": null,
            "width": null
          }
        },
        "df2fe1ad3ce9479b9c76f9ef984faf50": {
          "model_module": "@jupyter-widgets/base",
          "model_name": "LayoutModel",
          "model_module_version": "1.2.0",
          "state": {
            "_model_module": "@jupyter-widgets/base",
            "_model_module_version": "1.2.0",
            "_model_name": "LayoutModel",
            "_view_count": null,
            "_view_module": "@jupyter-widgets/base",
            "_view_module_version": "1.2.0",
            "_view_name": "LayoutView",
            "align_content": null,
            "align_items": null,
            "align_self": null,
            "border": null,
            "bottom": null,
            "display": null,
            "flex": null,
            "flex_flow": null,
            "grid_area": null,
            "grid_auto_columns": null,
            "grid_auto_flow": null,
            "grid_auto_rows": null,
            "grid_column": null,
            "grid_gap": null,
            "grid_row": null,
            "grid_template_areas": null,
            "grid_template_columns": null,
            "grid_template_rows": null,
            "height": null,
            "justify_content": null,
            "justify_items": null,
            "left": null,
            "margin": null,
            "max_height": null,
            "max_width": null,
            "min_height": null,
            "min_width": null,
            "object_fit": null,
            "object_position": null,
            "order": null,
            "overflow": null,
            "overflow_x": null,
            "overflow_y": null,
            "padding": null,
            "right": null,
            "top": null,
            "visibility": null,
            "width": null
          }
        },
        "ee852781589d434a8754bda4114d35b4": {
          "model_module": "@jupyter-widgets/controls",
          "model_name": "DescriptionStyleModel",
          "model_module_version": "1.5.0",
          "state": {
            "_model_module": "@jupyter-widgets/controls",
            "_model_module_version": "1.5.0",
            "_model_name": "DescriptionStyleModel",
            "_view_count": null,
            "_view_module": "@jupyter-widgets/base",
            "_view_module_version": "1.2.0",
            "_view_name": "StyleView",
            "description_width": ""
          }
        },
        "a450fcf5eda0428d9d73ecabf5e31f92": {
          "model_module": "@jupyter-widgets/base",
          "model_name": "LayoutModel",
          "model_module_version": "1.2.0",
          "state": {
            "_model_module": "@jupyter-widgets/base",
            "_model_module_version": "1.2.0",
            "_model_name": "LayoutModel",
            "_view_count": null,
            "_view_module": "@jupyter-widgets/base",
            "_view_module_version": "1.2.0",
            "_view_name": "LayoutView",
            "align_content": null,
            "align_items": null,
            "align_self": null,
            "border": null,
            "bottom": null,
            "display": null,
            "flex": null,
            "flex_flow": null,
            "grid_area": null,
            "grid_auto_columns": null,
            "grid_auto_flow": null,
            "grid_auto_rows": null,
            "grid_column": null,
            "grid_gap": null,
            "grid_row": null,
            "grid_template_areas": null,
            "grid_template_columns": null,
            "grid_template_rows": null,
            "height": null,
            "justify_content": null,
            "justify_items": null,
            "left": null,
            "margin": null,
            "max_height": null,
            "max_width": null,
            "min_height": null,
            "min_width": null,
            "object_fit": null,
            "object_position": null,
            "order": null,
            "overflow": null,
            "overflow_x": null,
            "overflow_y": null,
            "padding": null,
            "right": null,
            "top": null,
            "visibility": null,
            "width": null
          }
        },
        "9da3a7692be448ca9c18de496b47b890": {
          "model_module": "@jupyter-widgets/controls",
          "model_name": "ProgressStyleModel",
          "model_module_version": "1.5.0",
          "state": {
            "_model_module": "@jupyter-widgets/controls",
            "_model_module_version": "1.5.0",
            "_model_name": "ProgressStyleModel",
            "_view_count": null,
            "_view_module": "@jupyter-widgets/base",
            "_view_module_version": "1.2.0",
            "_view_name": "StyleView",
            "bar_color": null,
            "description_width": ""
          }
        },
        "c695e6564d214005b8c359d0850fd750": {
          "model_module": "@jupyter-widgets/base",
          "model_name": "LayoutModel",
          "model_module_version": "1.2.0",
          "state": {
            "_model_module": "@jupyter-widgets/base",
            "_model_module_version": "1.2.0",
            "_model_name": "LayoutModel",
            "_view_count": null,
            "_view_module": "@jupyter-widgets/base",
            "_view_module_version": "1.2.0",
            "_view_name": "LayoutView",
            "align_content": null,
            "align_items": null,
            "align_self": null,
            "border": null,
            "bottom": null,
            "display": null,
            "flex": null,
            "flex_flow": null,
            "grid_area": null,
            "grid_auto_columns": null,
            "grid_auto_flow": null,
            "grid_auto_rows": null,
            "grid_column": null,
            "grid_gap": null,
            "grid_row": null,
            "grid_template_areas": null,
            "grid_template_columns": null,
            "grid_template_rows": null,
            "height": null,
            "justify_content": null,
            "justify_items": null,
            "left": null,
            "margin": null,
            "max_height": null,
            "max_width": null,
            "min_height": null,
            "min_width": null,
            "object_fit": null,
            "object_position": null,
            "order": null,
            "overflow": null,
            "overflow_x": null,
            "overflow_y": null,
            "padding": null,
            "right": null,
            "top": null,
            "visibility": null,
            "width": null
          }
        },
        "9e72e64712244ab8b52a1ec7700141bc": {
          "model_module": "@jupyter-widgets/controls",
          "model_name": "DescriptionStyleModel",
          "model_module_version": "1.5.0",
          "state": {
            "_model_module": "@jupyter-widgets/controls",
            "_model_module_version": "1.5.0",
            "_model_name": "DescriptionStyleModel",
            "_view_count": null,
            "_view_module": "@jupyter-widgets/base",
            "_view_module_version": "1.2.0",
            "_view_name": "StyleView",
            "description_width": ""
          }
        },
        "686d8221de664c7196916fe13fc60118": {
          "model_module": "@jupyter-widgets/controls",
          "model_name": "HBoxModel",
          "model_module_version": "1.5.0",
          "state": {
            "_dom_classes": [],
            "_model_module": "@jupyter-widgets/controls",
            "_model_module_version": "1.5.0",
            "_model_name": "HBoxModel",
            "_view_count": null,
            "_view_module": "@jupyter-widgets/controls",
            "_view_module_version": "1.5.0",
            "_view_name": "HBoxView",
            "box_style": "",
            "children": [
              "IPY_MODEL_194fbe2cf62c48bd9c0ddd532e99e37a",
              "IPY_MODEL_0b99f34ed4a34de3878cb15c2b179513",
              "IPY_MODEL_d4af33c38bee4eeaad171cb8b644cf5d"
            ],
            "layout": "IPY_MODEL_93be961727b94a47bf514d1ff761a945"
          }
        },
        "194fbe2cf62c48bd9c0ddd532e99e37a": {
          "model_module": "@jupyter-widgets/controls",
          "model_name": "HTMLModel",
          "model_module_version": "1.5.0",
          "state": {
            "_dom_classes": [],
            "_model_module": "@jupyter-widgets/controls",
            "_model_module_version": "1.5.0",
            "_model_name": "HTMLModel",
            "_view_count": null,
            "_view_module": "@jupyter-widgets/controls",
            "_view_module_version": "1.5.0",
            "_view_name": "HTMLView",
            "description": "",
            "description_tooltip": null,
            "layout": "IPY_MODEL_50f5e8812ef7479ebbeb2c208aa05f99",
            "placeholder": "​",
            "style": "IPY_MODEL_7e84b19bae1d4eabbbd06e046c8b285f",
            "value": "Map: 100%"
          }
        },
        "0b99f34ed4a34de3878cb15c2b179513": {
          "model_module": "@jupyter-widgets/controls",
          "model_name": "FloatProgressModel",
          "model_module_version": "1.5.0",
          "state": {
            "_dom_classes": [],
            "_model_module": "@jupyter-widgets/controls",
            "_model_module_version": "1.5.0",
            "_model_name": "FloatProgressModel",
            "_view_count": null,
            "_view_module": "@jupyter-widgets/controls",
            "_view_module_version": "1.5.0",
            "_view_name": "ProgressView",
            "bar_style": "success",
            "description": "",
            "description_tooltip": null,
            "layout": "IPY_MODEL_70de60ae9ef74a0295102ba18c5f029e",
            "max": 3973,
            "min": 0,
            "orientation": "horizontal",
            "style": "IPY_MODEL_80413d16ac7f40a588c1e7eee3b5add9",
            "value": 3973
          }
        },
        "d4af33c38bee4eeaad171cb8b644cf5d": {
          "model_module": "@jupyter-widgets/controls",
          "model_name": "HTMLModel",
          "model_module_version": "1.5.0",
          "state": {
            "_dom_classes": [],
            "_model_module": "@jupyter-widgets/controls",
            "_model_module_version": "1.5.0",
            "_model_name": "HTMLModel",
            "_view_count": null,
            "_view_module": "@jupyter-widgets/controls",
            "_view_module_version": "1.5.0",
            "_view_name": "HTMLView",
            "description": "",
            "description_tooltip": null,
            "layout": "IPY_MODEL_d5a1507a50614141a3907eb48f0a778a",
            "placeholder": "​",
            "style": "IPY_MODEL_e4015c57071340119bdfd26bf12bea93",
            "value": " 3973/3973 [00:13&lt;00:00, 295.26 examples/s]"
          }
        },
        "93be961727b94a47bf514d1ff761a945": {
          "model_module": "@jupyter-widgets/base",
          "model_name": "LayoutModel",
          "model_module_version": "1.2.0",
          "state": {
            "_model_module": "@jupyter-widgets/base",
            "_model_module_version": "1.2.0",
            "_model_name": "LayoutModel",
            "_view_count": null,
            "_view_module": "@jupyter-widgets/base",
            "_view_module_version": "1.2.0",
            "_view_name": "LayoutView",
            "align_content": null,
            "align_items": null,
            "align_self": null,
            "border": null,
            "bottom": null,
            "display": null,
            "flex": null,
            "flex_flow": null,
            "grid_area": null,
            "grid_auto_columns": null,
            "grid_auto_flow": null,
            "grid_auto_rows": null,
            "grid_column": null,
            "grid_gap": null,
            "grid_row": null,
            "grid_template_areas": null,
            "grid_template_columns": null,
            "grid_template_rows": null,
            "height": null,
            "justify_content": null,
            "justify_items": null,
            "left": null,
            "margin": null,
            "max_height": null,
            "max_width": null,
            "min_height": null,
            "min_width": null,
            "object_fit": null,
            "object_position": null,
            "order": null,
            "overflow": null,
            "overflow_x": null,
            "overflow_y": null,
            "padding": null,
            "right": null,
            "top": null,
            "visibility": null,
            "width": null
          }
        },
        "50f5e8812ef7479ebbeb2c208aa05f99": {
          "model_module": "@jupyter-widgets/base",
          "model_name": "LayoutModel",
          "model_module_version": "1.2.0",
          "state": {
            "_model_module": "@jupyter-widgets/base",
            "_model_module_version": "1.2.0",
            "_model_name": "LayoutModel",
            "_view_count": null,
            "_view_module": "@jupyter-widgets/base",
            "_view_module_version": "1.2.0",
            "_view_name": "LayoutView",
            "align_content": null,
            "align_items": null,
            "align_self": null,
            "border": null,
            "bottom": null,
            "display": null,
            "flex": null,
            "flex_flow": null,
            "grid_area": null,
            "grid_auto_columns": null,
            "grid_auto_flow": null,
            "grid_auto_rows": null,
            "grid_column": null,
            "grid_gap": null,
            "grid_row": null,
            "grid_template_areas": null,
            "grid_template_columns": null,
            "grid_template_rows": null,
            "height": null,
            "justify_content": null,
            "justify_items": null,
            "left": null,
            "margin": null,
            "max_height": null,
            "max_width": null,
            "min_height": null,
            "min_width": null,
            "object_fit": null,
            "object_position": null,
            "order": null,
            "overflow": null,
            "overflow_x": null,
            "overflow_y": null,
            "padding": null,
            "right": null,
            "top": null,
            "visibility": null,
            "width": null
          }
        },
        "7e84b19bae1d4eabbbd06e046c8b285f": {
          "model_module": "@jupyter-widgets/controls",
          "model_name": "DescriptionStyleModel",
          "model_module_version": "1.5.0",
          "state": {
            "_model_module": "@jupyter-widgets/controls",
            "_model_module_version": "1.5.0",
            "_model_name": "DescriptionStyleModel",
            "_view_count": null,
            "_view_module": "@jupyter-widgets/base",
            "_view_module_version": "1.2.0",
            "_view_name": "StyleView",
            "description_width": ""
          }
        },
        "70de60ae9ef74a0295102ba18c5f029e": {
          "model_module": "@jupyter-widgets/base",
          "model_name": "LayoutModel",
          "model_module_version": "1.2.0",
          "state": {
            "_model_module": "@jupyter-widgets/base",
            "_model_module_version": "1.2.0",
            "_model_name": "LayoutModel",
            "_view_count": null,
            "_view_module": "@jupyter-widgets/base",
            "_view_module_version": "1.2.0",
            "_view_name": "LayoutView",
            "align_content": null,
            "align_items": null,
            "align_self": null,
            "border": null,
            "bottom": null,
            "display": null,
            "flex": null,
            "flex_flow": null,
            "grid_area": null,
            "grid_auto_columns": null,
            "grid_auto_flow": null,
            "grid_auto_rows": null,
            "grid_column": null,
            "grid_gap": null,
            "grid_row": null,
            "grid_template_areas": null,
            "grid_template_columns": null,
            "grid_template_rows": null,
            "height": null,
            "justify_content": null,
            "justify_items": null,
            "left": null,
            "margin": null,
            "max_height": null,
            "max_width": null,
            "min_height": null,
            "min_width": null,
            "object_fit": null,
            "object_position": null,
            "order": null,
            "overflow": null,
            "overflow_x": null,
            "overflow_y": null,
            "padding": null,
            "right": null,
            "top": null,
            "visibility": null,
            "width": null
          }
        },
        "80413d16ac7f40a588c1e7eee3b5add9": {
          "model_module": "@jupyter-widgets/controls",
          "model_name": "ProgressStyleModel",
          "model_module_version": "1.5.0",
          "state": {
            "_model_module": "@jupyter-widgets/controls",
            "_model_module_version": "1.5.0",
            "_model_name": "ProgressStyleModel",
            "_view_count": null,
            "_view_module": "@jupyter-widgets/base",
            "_view_module_version": "1.2.0",
            "_view_name": "StyleView",
            "bar_color": null,
            "description_width": ""
          }
        },
        "d5a1507a50614141a3907eb48f0a778a": {
          "model_module": "@jupyter-widgets/base",
          "model_name": "LayoutModel",
          "model_module_version": "1.2.0",
          "state": {
            "_model_module": "@jupyter-widgets/base",
            "_model_module_version": "1.2.0",
            "_model_name": "LayoutModel",
            "_view_count": null,
            "_view_module": "@jupyter-widgets/base",
            "_view_module_version": "1.2.0",
            "_view_name": "LayoutView",
            "align_content": null,
            "align_items": null,
            "align_self": null,
            "border": null,
            "bottom": null,
            "display": null,
            "flex": null,
            "flex_flow": null,
            "grid_area": null,
            "grid_auto_columns": null,
            "grid_auto_flow": null,
            "grid_auto_rows": null,
            "grid_column": null,
            "grid_gap": null,
            "grid_row": null,
            "grid_template_areas": null,
            "grid_template_columns": null,
            "grid_template_rows": null,
            "height": null,
            "justify_content": null,
            "justify_items": null,
            "left": null,
            "margin": null,
            "max_height": null,
            "max_width": null,
            "min_height": null,
            "min_width": null,
            "object_fit": null,
            "object_position": null,
            "order": null,
            "overflow": null,
            "overflow_x": null,
            "overflow_y": null,
            "padding": null,
            "right": null,
            "top": null,
            "visibility": null,
            "width": null
          }
        },
        "e4015c57071340119bdfd26bf12bea93": {
          "model_module": "@jupyter-widgets/controls",
          "model_name": "DescriptionStyleModel",
          "model_module_version": "1.5.0",
          "state": {
            "_model_module": "@jupyter-widgets/controls",
            "_model_module_version": "1.5.0",
            "_model_name": "DescriptionStyleModel",
            "_view_count": null,
            "_view_module": "@jupyter-widgets/base",
            "_view_module_version": "1.2.0",
            "_view_name": "StyleView",
            "description_width": ""
          }
        }
      }
    }
  },
  "cells": [
    {
      "cell_type": "markdown",
      "source": [
        "Use Microsoft Copilot to annotate the dataset for answers to each of the 4 questions that will be asked so there is data to finetune the model with. The following was a prompt used to gather the annotated data:\n",
        "\n",
        "#### Use this file and find the symptoms of the patient that are described in the transcription column. Report the words related to the symptoms in a new column called \"symptoms_true\". FIND SYMPTOMS IN AS MANY RECORDS AS POSSIBLE. If no complaints found in the transcript, report \"no symptoms listed\""
      ],
      "metadata": {
        "id": "kNmasQCwlIQn"
      }
    },
    {
      "cell_type": "code",
      "source": [
        "!#pip install transformers datasets torch evaluate"
      ],
      "metadata": {
        "id": "F6MeNTwrE5Ay"
      },
      "execution_count": null,
      "outputs": []
    },
    {
      "cell_type": "code",
      "execution_count": null,
      "metadata": {
        "id": "wjdbkEH_Eqj1"
      },
      "outputs": [],
      "source": [
        "import torch\n",
        "import pandas as pd\n",
        "import evaluate\n",
        "from datasets import Dataset\n",
        "from sklearn.model_selection import train_test_split\n",
        "from transformers import AutoTokenizer, AutoModelForQuestionAnswering, Trainer, TrainingArguments"
      ]
    },
    {
      "cell_type": "code",
      "source": [
        "print(f\"CUDA available: {torch.cuda.is_available()}\")"
      ],
      "metadata": {
        "id": "F0XMFW73GB__",
        "colab": {
          "base_uri": "https://localhost:8080/"
        },
        "outputId": "9f4e695a-9747-4259-93a8-8caf515921a3"
      },
      "execution_count": null,
      "outputs": [
        {
          "output_type": "stream",
          "name": "stdout",
          "text": [
            "CUDA available: True\n"
          ]
        }
      ]
    },
    {
      "cell_type": "code",
      "source": [
        "# Load dataset\n",
        "data_path = \"/content/drive/MyDrive/UNH Data Science Courses/DSCI 6004 - NLP/Bonus Assignment/updated_transcription.csv\"\n",
        "data_path= \"/content/updated_transcription.csv\"\n",
        "data = pd.read_csv(data_path)"
      ],
      "metadata": {
        "id": "nStkQFcEEy-D"
      },
      "execution_count": null,
      "outputs": []
    },
    {
      "cell_type": "code",
      "source": [
        "# Define the questions and map them to the respective columns\n",
        "questions = {\n",
        "    \"How old is the patient?\": \"age_true\",\n",
        "    \"Does the patient have any complaints?\": \"complaints_true\",\n",
        "    \"What is the reason for this consultation?\": \"reason_true\",\n",
        "    \"What other symptoms does the patient have?\": \"symptoms_true\",\n",
        "}\n",
        "\n",
        "# Create a list to store the reformatted data\n",
        "qa_data = []\n",
        "\n",
        "# Iterate over each row to structure the data\n",
        "for _, row in data.iterrows():\n",
        "    context = row[\"transcription\"]\n",
        "    for question, answer_col in questions.items():\n",
        "        qa_data.append({\n",
        "            \"context\": context,\n",
        "            \"question\": question,\n",
        "            \"answer\": row[answer_col]\n",
        "        })\n",
        "\n",
        "# Convert to a Hugging Face Dataset format\n",
        "qa_df = pd.DataFrame(qa_data)\n",
        "train_data, eval_data = train_test_split(qa_df, test_size=0.2, random_state=42)\n",
        "train_dataset = Dataset.from_pandas(train_data)\n",
        "eval_dataset = Dataset.from_pandas(eval_data)"
      ],
      "metadata": {
        "id": "Xoko8HSeE2V3"
      },
      "execution_count": null,
      "outputs": []
    },
    {
      "cell_type": "code",
      "source": [
        "# Initialize the tokenizer for deepset/tinyroberta-squad2\n",
        "model_name = \"deepset/tinyroberta-squad2\"\n",
        "tokenizer = AutoTokenizer.from_pretrained(model_name)\n",
        "\n",
        "def preprocess_function(examples):\n",
        "    questions = examples[\"question\"]\n",
        "    contexts = examples[\"context\"]\n",
        "    answers = examples[\"answer\"]\n",
        "\n",
        "    # Tokenize the questions and contexts\n",
        "    inputs = tokenizer(questions, contexts, max_length=512, truncation=True, padding=\"max_length\")\n",
        "\n",
        "    # Find the start and end positions of the answer in the context\n",
        "    start_positions = []\n",
        "    end_positions = []\n",
        "    for i, context in enumerate(contexts):\n",
        "        answer = answers[i]\n",
        "\n",
        "        # Find the start and end indices of the answer in the context\n",
        "        start_idx = context.find(answer)\n",
        "        if start_idx != -1:\n",
        "            end_idx = start_idx + len(answer) - 1\n",
        "            # Tokenize the answer to get token indices\n",
        "            start_position = tokenizer.encode(context[:start_idx], add_special_tokens=False)\n",
        "            end_position = tokenizer.encode(context[:end_idx + 1], add_special_tokens=False)\n",
        "\n",
        "            start_positions.append(len(start_position))  # Start position is the length of the tokens before the answer\n",
        "            end_positions.append(len(end_position) - 1)  # End position is the length of tokens before the end of the answer\n",
        "        else:\n",
        "            start_positions.append(0)  # Default to 0 if the answer is not found\n",
        "            end_positions.append(0)  # Default to 0 if the answer is not found\n",
        "\n",
        "    # Add the positions to the inputs\n",
        "    inputs[\"start_positions\"] = start_positions\n",
        "    inputs[\"end_positions\"] = end_positions\n",
        "\n",
        "    return inputs\n",
        "\n",
        "# Preprocess the datasets\n",
        "train_dataset = train_dataset.map(preprocess_function, batched=True)\n",
        "eval_dataset = eval_dataset.map(preprocess_function, batched=True)"
      ],
      "metadata": {
        "id": "uWxokipcFCVo",
        "colab": {
          "base_uri": "https://localhost:8080/",
          "height": 98,
          "referenced_widgets": [
            "ad3a5456c2014e6480a79cd7867af717",
            "3c101af598e043f2a6422b37556e7344",
            "050caf8a4d31404da8e65d259653e270",
            "4f4f4615b2dc434080db5d45c2887dbf",
            "0a82b67387f74f3bbddf07767d3b9572",
            "df2fe1ad3ce9479b9c76f9ef984faf50",
            "ee852781589d434a8754bda4114d35b4",
            "a450fcf5eda0428d9d73ecabf5e31f92",
            "9da3a7692be448ca9c18de496b47b890",
            "c695e6564d214005b8c359d0850fd750",
            "9e72e64712244ab8b52a1ec7700141bc",
            "686d8221de664c7196916fe13fc60118",
            "194fbe2cf62c48bd9c0ddd532e99e37a",
            "0b99f34ed4a34de3878cb15c2b179513",
            "d4af33c38bee4eeaad171cb8b644cf5d",
            "93be961727b94a47bf514d1ff761a945",
            "50f5e8812ef7479ebbeb2c208aa05f99",
            "7e84b19bae1d4eabbbd06e046c8b285f",
            "70de60ae9ef74a0295102ba18c5f029e",
            "80413d16ac7f40a588c1e7eee3b5add9",
            "d5a1507a50614141a3907eb48f0a778a",
            "e4015c57071340119bdfd26bf12bea93"
          ]
        },
        "outputId": "365c4e16-0b6b-434e-fbfb-7b6792e1e055"
      },
      "execution_count": null,
      "outputs": [
        {
          "output_type": "display_data",
          "data": {
            "text/plain": [
              "Map:   0%|          | 0/15891 [00:00<?, ? examples/s]"
            ],
            "application/vnd.jupyter.widget-view+json": {
              "version_major": 2,
              "version_minor": 0,
              "model_id": "ad3a5456c2014e6480a79cd7867af717"
            }
          },
          "metadata": {}
        },
        {
          "output_type": "stream",
          "name": "stderr",
          "text": [
            "Token indices sequence length is longer than the specified maximum sequence length for this model (1034 > 512). Running this sequence through the model will result in indexing errors\n"
          ]
        },
        {
          "output_type": "display_data",
          "data": {
            "text/plain": [
              "Map:   0%|          | 0/3973 [00:00<?, ? examples/s]"
            ],
            "application/vnd.jupyter.widget-view+json": {
              "version_major": 2,
              "version_minor": 0,
              "model_id": "686d8221de664c7196916fe13fc60118"
            }
          },
          "metadata": {}
        }
      ]
    },
    {
      "cell_type": "code",
      "source": [
        "# Load the evaluation metrics (F1 and Exact Match)\n",
        "metric = evaluate.load(\"squad\")\n",
        "\n",
        "def compute_metrics(eval_pred):\n",
        "    # Unpack the tuple containing logits and labels\n",
        "    logits, labels = eval_pred\n",
        "\n",
        "    # Extract start and end logits and labels\n",
        "    start_logits, end_logits = logits\n",
        "    start_labels, end_labels = labels\n",
        "\n",
        "    # Ensure the logits are PyTorch tensors (if they are not)\n",
        "    start_logits = torch.tensor(start_logits) if not isinstance(start_logits, torch.Tensor) else start_logits\n",
        "    end_logits = torch.tensor(end_logits) if not isinstance(end_logits, torch.Tensor) else end_logits\n",
        "\n",
        "    # Convert logits to predictions (argmax)\n",
        "    start_preds = torch.argmax(start_logits, dim=-1).numpy()  # Convert to numpy\n",
        "    end_preds = torch.argmax(end_logits, dim=-1).numpy()      # Convert to numpy\n",
        "\n",
        "    # Create span predictions by combining start and end predictions\n",
        "    pred_spans = [{\"id\": str(i), \"prediction_text\": f\"Start: {start} End: {end}\"} for i, (start, end) in enumerate(zip(start_preds, end_preds))]\n",
        "\n",
        "    # Create the references with text and answer_start\n",
        "    true_spans = [{\"id\": str(i), \"answers\": [{\"text\": f\"Start: {start} End: {end}\", \"answer_start\": start}]} for i, (start, end) in enumerate(zip(start_labels, end_labels))]\n",
        "\n",
        "    # Compute results for the full span (start and end combined)\n",
        "    results = metric.compute(predictions=pred_spans, references=true_spans)\n",
        "\n",
        "    return results"
      ],
      "metadata": {
        "id": "RmTX1bDGS4po"
      },
      "execution_count": null,
      "outputs": []
    },
    {
      "cell_type": "code",
      "source": [
        "# Load the pre-trained model\n",
        "model = AutoModelForQuestionAnswering.from_pretrained(model_name).to('cuda')\n",
        "\n",
        "# Define the training arguments\n",
        "training_args = TrainingArguments(\n",
        "    output_dir='./results',          # Output directory for saving the model\n",
        "    evaluation_strategy=\"epoch\",     # Evaluate after each epoch\n",
        "    learning_rate=2e-5,              # Learning rate\n",
        "    per_device_train_batch_size=64,   # Batch size for training\n",
        "    per_device_eval_batch_size=64,    # Batch size for evaluation\n",
        "    num_train_epochs=5,              # Number of training epochs\n",
        "    weight_decay=0.01,               # Weight decay\n",
        "    push_to_hub=False,               # Don't push to Hugging Face Hub\n",
        "    fp16=True,                       # Enable mixed precision for faster training\n",
        "    report_to=\"none\"\n",
        ")\n",
        "\n",
        "# Initialize the Trainer\n",
        "trainer = Trainer(\n",
        "    model=model,\n",
        "    args=training_args,\n",
        "    train_dataset=train_dataset,\n",
        "    eval_dataset=eval_dataset,\n",
        "    tokenizer=tokenizer,\n",
        "    compute_metrics=compute_metrics\n",
        ")\n",
        "\n",
        "# Train the model\n",
        "trainer.train()"
      ],
      "metadata": {
        "id": "7Zj9sR8AFIwW",
        "colab": {
          "base_uri": "https://localhost:8080/",
          "height": 356
        },
        "outputId": "ddd8ca26-9890-4e59-aa55-fcc59e32d7f9"
      },
      "execution_count": null,
      "outputs": [
        {
          "output_type": "stream",
          "name": "stderr",
          "text": [
            "/usr/local/lib/python3.10/dist-packages/transformers/training_args.py:1568: FutureWarning: `evaluation_strategy` is deprecated and will be removed in version 4.46 of 🤗 Transformers. Use `eval_strategy` instead\n",
            "  warnings.warn(\n",
            "<ipython-input-52-b11fda3398a8>:19: FutureWarning: `tokenizer` is deprecated and will be removed in version 5.0.0 for `Trainer.__init__`. Use `processing_class` instead.\n",
            "  trainer = Trainer(\n"
          ]
        },
        {
          "output_type": "display_data",
          "data": {
            "text/plain": [
              "<IPython.core.display.HTML object>"
            ],
            "text/html": [
              "\n",
              "    <div>\n",
              "      \n",
              "      <progress value='1245' max='1245' style='width:300px; height:20px; vertical-align: middle;'></progress>\n",
              "      [1245/1245 18:44, Epoch 5/5]\n",
              "    </div>\n",
              "    <table border=\"1\" class=\"dataframe\">\n",
              "  <thead>\n",
              " <tr style=\"text-align: left;\">\n",
              "      <th>Epoch</th>\n",
              "      <th>Training Loss</th>\n",
              "      <th>Validation Loss</th>\n",
              "      <th>Exact Match</th>\n",
              "      <th>F1</th>\n",
              "    </tr>\n",
              "  </thead>\n",
              "  <tbody>\n",
              "    <tr>\n",
              "      <td>1</td>\n",
              "      <td>No log</td>\n",
              "      <td>1.103650</td>\n",
              "      <td>75.358671</td>\n",
              "      <td>89.164359</td>\n",
              "    </tr>\n",
              "    <tr>\n",
              "      <td>2</td>\n",
              "      <td>No log</td>\n",
              "      <td>0.802555</td>\n",
              "      <td>77.019884</td>\n",
              "      <td>90.894790</td>\n",
              "    </tr>\n",
              "    <tr>\n",
              "      <td>3</td>\n",
              "      <td>1.394500</td>\n",
              "      <td>0.607937</td>\n",
              "      <td>82.230053</td>\n",
              "      <td>92.530833</td>\n",
              "    </tr>\n",
              "    <tr>\n",
              "      <td>4</td>\n",
              "      <td>1.394500</td>\n",
              "      <td>0.526496</td>\n",
              "      <td>83.916436</td>\n",
              "      <td>93.355147</td>\n",
              "    </tr>\n",
              "    <tr>\n",
              "      <td>5</td>\n",
              "      <td>0.687900</td>\n",
              "      <td>0.498918</td>\n",
              "      <td>84.218475</td>\n",
              "      <td>93.487289</td>\n",
              "    </tr>\n",
              "  </tbody>\n",
              "</table><p>"
            ]
          },
          "metadata": {}
        },
        {
          "output_type": "execute_result",
          "data": {
            "text/plain": [
              "TrainOutput(global_step=1245, training_loss=0.9440525162172126, metrics={'train_runtime': 1125.55, 'train_samples_per_second': 70.592, 'train_steps_per_second': 1.106, 'total_flos': 1.038104206304256e+16, 'train_loss': 0.9440525162172126, 'epoch': 5.0})"
            ]
          },
          "metadata": {},
          "execution_count": 52
        }
      ]
    },
    {
      "cell_type": "code",
      "source": [
        "# Save the fine-tuned model\n",
        "model.save_pretrained(\"fine_tuned_medical_qa_model\")\n",
        "tokenizer.save_pretrained(\"fine_tuned_medical_qa_model\")"
      ],
      "metadata": {
        "id": "qU8qUqnFFSrU",
        "colab": {
          "base_uri": "https://localhost:8080/"
        },
        "outputId": "03e26cf8-538c-444c-97c6-164b7b0a53ec"
      },
      "execution_count": null,
      "outputs": [
        {
          "output_type": "execute_result",
          "data": {
            "text/plain": [
              "('fine_tuned_medical_qa_model/tokenizer_config.json',\n",
              " 'fine_tuned_medical_qa_model/special_tokens_map.json',\n",
              " 'fine_tuned_medical_qa_model/vocab.json',\n",
              " 'fine_tuned_medical_qa_model/merges.txt',\n",
              " 'fine_tuned_medical_qa_model/added_tokens.json',\n",
              " 'fine_tuned_medical_qa_model/tokenizer.json')"
            ]
          },
          "metadata": {},
          "execution_count": 53
        }
      ]
    },
    {
      "cell_type": "code",
      "source": [
        "# Evaluate the model\n",
        "eval_results = trainer.evaluate()\n",
        "\n",
        "# Print the evaluation results\n",
        "print(eval_results)"
      ],
      "metadata": {
        "id": "ZGxcI8GEFLZ3",
        "colab": {
          "base_uri": "https://localhost:8080/",
          "height": 74
        },
        "outputId": "7084f3db-6856-41bb-d3d7-fffd7a5f28ba"
      },
      "execution_count": null,
      "outputs": [
        {
          "output_type": "display_data",
          "data": {
            "text/plain": [
              "<IPython.core.display.HTML object>"
            ],
            "text/html": [
              "\n",
              "    <div>\n",
              "      \n",
              "      <progress value='63' max='63' style='width:300px; height:20px; vertical-align: middle;'></progress>\n",
              "      [63/63 00:15]\n",
              "    </div>\n",
              "    "
            ]
          },
          "metadata": {}
        },
        {
          "output_type": "stream",
          "name": "stdout",
          "text": [
            "{'eval_loss': 0.498918354511261, 'eval_exact_match': 84.21847470425371, 'eval_f1': 93.48728920211427, 'eval_runtime': 18.0129, 'eval_samples_per_second': 220.564, 'eval_steps_per_second': 3.497, 'epoch': 5.0}\n"
          ]
        }
      ]
    }
  ]
}